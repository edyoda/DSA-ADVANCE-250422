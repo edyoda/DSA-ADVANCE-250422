{
 "cells": [
  {
   "cell_type": "code",
   "execution_count": null,
   "id": "db801618",
   "metadata": {},
   "outputs": [],
   "source": [
    "# bubble sort"
   ]
  },
  {
   "cell_type": "code",
   "execution_count": 20,
   "id": "98fe44ca",
   "metadata": {},
   "outputs": [
    {
     "name": "stdout",
     "output_type": "stream",
     "text": [
      "10\n",
      "after 1 cycle [1, 30, -40, 12, -30, 20, 10, 76, 43, 56, 120]\n",
      "after 2 cycle [1, -40, 12, -30, 20, 10, 30, 43, 56, 76, 120]\n",
      "after 3 cycle [-40, 1, -30, 12, 10, 20, 30, 43, 56, 76, 120]\n",
      "after 4 cycle [-40, -30, 1, 10, 12, 20, 30, 43, 56, 76, 120]\n",
      "after 5 cycle [-40, -30, 1, 10, 12, 20, 30, 43, 56, 76, 120]\n",
      "after 6 cycle [-40, -30, 1, 10, 12, 20, 30, 43, 56, 76, 120]\n",
      "after 7 cycle [-40, -30, 1, 10, 12, 20, 30, 43, 56, 76, 120]\n",
      "after 8 cycle [-40, -30, 1, 10, 12, 20, 30, 43, 56, 76, 120]\n",
      "after 9 cycle [-40, -30, 1, 10, 12, 20, 30, 43, 56, 76, 120]\n",
      "after 10 cycle [-40, -30, 1, 10, 12, 20, 30, 43, 56, 76, 120]\n"
     ]
    }
   ],
   "source": [
    "l = [1,120,30,-40,12,-30,20,10,76,43,56]\n",
    "n = len(l)\n",
    "print(n-1)\n",
    "for i in range(n-1):\n",
    "    for j in range(0,n-i-1):\n",
    "        if l[j] > l[j+1]:\n",
    "            l[j],l[j+1] = l[j+1],l[j]\n",
    "    print(f'after {i+1} cycle',l)"
   ]
  },
  {
   "cell_type": "code",
   "execution_count": null,
   "id": "f324705f",
   "metadata": {},
   "outputs": [],
   "source": [
    "HOMEWORK: USE SWAPPED FLAG TO STOP THE UNNECESSARY CYCLES IN BUBBLE SORT."
   ]
  },
  {
   "cell_type": "code",
   "execution_count": 19,
   "id": "ccc3cee2",
   "metadata": {},
   "outputs": [
    {
     "name": "stdout",
     "output_type": "stream",
     "text": [
      "0\n",
      "2\n",
      "4\n",
      "6\n",
      "8\n",
      "10\n",
      "12\n",
      "14\n",
      "16\n",
      "18\n"
     ]
    }
   ],
   "source": [
    "for i in range(0,20,2):\n",
    "    print(i)"
   ]
  },
  {
   "cell_type": "code",
   "execution_count": 1,
   "id": "566122b0",
   "metadata": {},
   "outputs": [],
   "source": [
    "x = [1,2]"
   ]
  },
  {
   "cell_type": "code",
   "execution_count": 2,
   "id": "6f262d48",
   "metadata": {},
   "outputs": [],
   "source": [
    "x[0],x[1] = x[1],x[0]"
   ]
  },
  {
   "cell_type": "code",
   "execution_count": 3,
   "id": "d2df96e9",
   "metadata": {},
   "outputs": [
    {
     "data": {
      "text/plain": [
       "[2, 1]"
      ]
     },
     "execution_count": 3,
     "metadata": {},
     "output_type": "execute_result"
    }
   ],
   "source": [
    "x"
   ]
  },
  {
   "cell_type": "code",
   "execution_count": 4,
   "id": "108e4444",
   "metadata": {},
   "outputs": [],
   "source": [
    "x,y = 1,2"
   ]
  },
  {
   "cell_type": "code",
   "execution_count": 5,
   "id": "2106e652",
   "metadata": {},
   "outputs": [],
   "source": [
    "x,y = y,x"
   ]
  },
  {
   "cell_type": "code",
   "execution_count": 6,
   "id": "156f6297",
   "metadata": {},
   "outputs": [
    {
     "data": {
      "text/plain": [
       "(2, 1)"
      ]
     },
     "execution_count": 6,
     "metadata": {},
     "output_type": "execute_result"
    }
   ],
   "source": [
    "x,y"
   ]
  },
  {
   "cell_type": "code",
   "execution_count": null,
   "id": "83fd0427",
   "metadata": {},
   "outputs": [],
   "source": [
    "# selection sort"
   ]
  },
  {
   "cell_type": "code",
   "execution_count": null,
   "id": "d9930eb5",
   "metadata": {},
   "outputs": [],
   "source": [
    "find the least element"
   ]
  },
  {
   "cell_type": "code",
   "execution_count": 30,
   "id": "10504d0e",
   "metadata": {},
   "outputs": [
    {
     "name": "stdout",
     "output_type": "stream",
     "text": [
      "10\n"
     ]
    }
   ],
   "source": [
    "l = [12,23,40,27,200,10,240,67,17,75]\n",
    "min_ele = l[0]\n",
    "\n",
    "for i in l:\n",
    "    if min_ele > i:\n",
    "        min_ele = i\n",
    "print(min_ele)"
   ]
  },
  {
   "cell_type": "code",
   "execution_count": 32,
   "id": "bc2625a5",
   "metadata": {},
   "outputs": [
    {
     "name": "stdout",
     "output_type": "stream",
     "text": [
      "10\n",
      "after 1 cycle [-56, 120, 30, -40, 12, -30, 20, 10, 76, 43, 1]\n",
      "after 2 cycle [-56, -40, 30, 120, 12, -30, 20, 10, 76, 43, 1]\n",
      "after 3 cycle [-56, -40, -30, 120, 12, 30, 20, 10, 76, 43, 1]\n",
      "after 4 cycle [-56, -40, -30, 1, 12, 30, 20, 10, 76, 43, 120]\n",
      "after 5 cycle [-56, -40, -30, 1, 10, 30, 20, 12, 76, 43, 120]\n",
      "after 6 cycle [-56, -40, -30, 1, 10, 12, 20, 30, 76, 43, 120]\n",
      "after 7 cycle [-56, -40, -30, 1, 10, 12, 20, 30, 76, 43, 120]\n",
      "after 8 cycle [-56, -40, -30, 1, 10, 12, 20, 30, 76, 43, 120]\n",
      "after 9 cycle [-56, -40, -30, 1, 10, 12, 20, 30, 43, 76, 120]\n",
      "after 10 cycle [-56, -40, -30, 1, 10, 12, 20, 30, 43, 76, 120]\n"
     ]
    }
   ],
   "source": [
    "l = [1,120,30,-40,12,-30,20,10,76,43,-56]\n",
    "n = len(l)\n",
    "print(n-1)\n",
    "for i in range(n-1):\n",
    "    # fix ith position\n",
    "    min_ele = l[i]\n",
    "    min_index = i\n",
    "    for j in range(i+1, n):\n",
    "        if min_ele > l[j]:\n",
    "            min_ele = l[j]\n",
    "            min_index = j\n",
    "    l[i],l[min_index] = l[min_index],l[i]\n",
    "    print(f'after {i+1} cycle',l)"
   ]
  },
  {
   "cell_type": "code",
   "execution_count": null,
   "id": "d553c89b",
   "metadata": {},
   "outputs": [],
   "source": [
    "# insertion sort\n",
    "HOMEWORK: CODE"
   ]
  },
  {
   "cell_type": "code",
   "execution_count": null,
   "id": "02af7cb0",
   "metadata": {},
   "outputs": [],
   "source": [
    "# QUICK SORT"
   ]
  }
 ],
 "metadata": {
  "kernelspec": {
   "display_name": "Python 3 (ipykernel)",
   "language": "python",
   "name": "python3"
  },
  "language_info": {
   "codemirror_mode": {
    "name": "ipython",
    "version": 3
   },
   "file_extension": ".py",
   "mimetype": "text/x-python",
   "name": "python",
   "nbconvert_exporter": "python",
   "pygments_lexer": "ipython3",
   "version": "3.8.9"
  }
 },
 "nbformat": 4,
 "nbformat_minor": 5
}
