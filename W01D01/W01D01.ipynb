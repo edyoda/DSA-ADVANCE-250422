{
 "cells": [
  {
   "cell_type": "markdown",
   "id": "85dfc668",
   "metadata": {},
   "source": [
    "# linear search"
   ]
  },
  {
   "cell_type": "code",
   "execution_count": 4,
   "id": "f3c9aa4d",
   "metadata": {},
   "outputs": [
    {
     "name": "stdout",
     "output_type": "stream",
     "text": [
      "found\n"
     ]
    }
   ],
   "source": [
    "l = [23,34,67,-2,688,900]\n",
    "\n",
    "findnumber = -2\n",
    "found = False\n",
    "\n",
    "for no in l:\n",
    "    if no == findnumber:\n",
    "        found = True\n",
    "        break\n",
    "    \n",
    "if found:\n",
    "    print('found')\n",
    "else:\n",
    "    print('not found')"
   ]
  },
  {
   "cell_type": "code",
   "execution_count": null,
   "id": "a0127152",
   "metadata": {},
   "outputs": [],
   "source": [
    "# recusrion: function calling itself\n",
    "# ending condition/exit condition"
   ]
  },
  {
   "cell_type": "code",
   "execution_count": 7,
   "id": "fa7dfd27",
   "metadata": {},
   "outputs": [
    {
     "name": "stdout",
     "output_type": "stream",
     "text": [
      "I am happy\n",
      "I am happy\n",
      "I am happy\n",
      "I am happy\n"
     ]
    }
   ],
   "source": [
    "def happy(no):\n",
    "    print('I am happy')\n",
    "    if no == 4:\n",
    "        return None\n",
    "    else:\n",
    "        no+=1\n",
    "        return happy(no)\n",
    "    \n",
    "no = 1\n",
    "happy(no)"
   ]
  },
  {
   "cell_type": "code",
   "execution_count": 8,
   "id": "ff869ef7",
   "metadata": {},
   "outputs": [],
   "source": [
    "# binary search"
   ]
  },
  {
   "cell_type": "code",
   "execution_count": 27,
   "id": "b28204b1",
   "metadata": {},
   "outputs": [
    {
     "name": "stdout",
     "output_type": "stream",
     "text": [
      "14\n",
      "apply same algo on list [18, 29, 100, 310]\n"
     ]
    }
   ],
   "source": [
    "l = [5,7,9,13,14,18,29,100,310]\n",
    "mid_index = len(l)//2\n",
    "print(l[mid_index])\n",
    "findnumber=310\n",
    "if l[mid_index] == findnumber:\n",
    "    print('found')\n",
    "else:\n",
    "    if findnumber > l[mid_index]:\n",
    "        print('apply same algo on list',l[mid_index+1:])\n",
    "    else:\n",
    "        print('apply same algo on list',l[:mid_index])"
   ]
  },
  {
   "cell_type": "code",
   "execution_count": 26,
   "id": "e9851e7a",
   "metadata": {},
   "outputs": [
    {
     "name": "stdout",
     "output_type": "stream",
     "text": [
      "[18, 29, 100, 310]\n",
      "[5, 7, 9, 13]\n"
     ]
    }
   ],
   "source": [
    "l = [5,7,9,13,14,18,29,100,310]\n",
    "print(l[5:])\n",
    "print(l[:4])"
   ]
  },
  {
   "cell_type": "code",
   "execution_count": 52,
   "id": "96ac46c9",
   "metadata": {},
   "outputs": [],
   "source": [
    "def binary_search(l, findnumber, low, high):\n",
    "    print('bin search',low,high)\n",
    "    if low > high :\n",
    "        print('not found')\n",
    "        return\n",
    "    mid_index = (low+high)//2\n",
    "    print('mid index',mid_index)\n",
    "    print(l[mid_index])\n",
    "    if l[mid_index] == findnumber:\n",
    "        print('found at index=',mid_index)\n",
    "    else:\n",
    "        if findnumber > l[mid_index]:\n",
    "            low = mid_index + 1\n",
    "            print('RHS',low,high)\n",
    "            binary_search(l, findnumber, low, high)\n",
    "        else:\n",
    "            high = mid_index - 1\n",
    "            print('LHS',low,high)\n",
    "            binary_search(l, findnumber, low, high)\n",
    "            \n",
    "# 1) get the right index where we found the number.\n",
    "# 2) give proper result if no is not found."
   ]
  },
  {
   "cell_type": "code",
   "execution_count": 56,
   "id": "8e1574a5",
   "metadata": {},
   "outputs": [
    {
     "name": "stdout",
     "output_type": "stream",
     "text": [
      "bin search 0 8\n",
      "mid index 4\n",
      "14\n",
      "RHS 5 8\n",
      "bin search 5 8\n",
      "mid index 6\n",
      "29\n",
      "LHS 5 5\n",
      "bin search 5 5\n",
      "mid index 5\n",
      "18\n",
      "found at index= 5\n"
     ]
    }
   ],
   "source": [
    "l = [5,7,9,13,14,18,29,100,310]\n",
    "binary_search(l, 18, 0, len(l)-1)"
   ]
  },
  {
   "cell_type": "code",
   "execution_count": 49,
   "id": "70663dae",
   "metadata": {},
   "outputs": [
    {
     "data": {
      "text/plain": [
       "6"
      ]
     },
     "execution_count": 49,
     "metadata": {},
     "output_type": "execute_result"
    }
   ],
   "source": [
    "(5+8)//2"
   ]
  },
  {
   "cell_type": "code",
   "execution_count": 57,
   "id": "994473bc",
   "metadata": {},
   "outputs": [
    {
     "data": {
      "text/plain": [
       "[-5, 17, 20, 22, 33, 36, 49, 60]"
      ]
     },
     "execution_count": 57,
     "metadata": {},
     "output_type": "execute_result"
    }
   ],
   "source": [
    "l = [-5,60,22,33,20,17,49,36]\n",
    "sorted(l)"
   ]
  },
  {
   "cell_type": "code",
   "execution_count": 58,
   "id": "b9e5d54a",
   "metadata": {},
   "outputs": [
    {
     "data": {
      "text/plain": [
       "[60, 49, 36, 33, 22, 20, 17, -5]"
      ]
     },
     "execution_count": 58,
     "metadata": {},
     "output_type": "execute_result"
    }
   ],
   "source": [
    "l = [-5,60,22,33,20,17,49,36]\n",
    "sorted(l,reverse=True)"
   ]
  },
  {
   "cell_type": "code",
   "execution_count": 59,
   "id": "ed8663b6",
   "metadata": {},
   "outputs": [
    {
     "name": "stdout",
     "output_type": "stream",
     "text": [
      "[-5, 17, 20, 22, 33, 36, 49, 60]\n"
     ]
    }
   ],
   "source": [
    "l.sort()\n",
    "print(l)"
   ]
  },
  {
   "cell_type": "code",
   "execution_count": null,
   "id": "e7daa1e4",
   "metadata": {},
   "outputs": [],
   "source": []
  }
 ],
 "metadata": {
  "kernelspec": {
   "display_name": "Python 3 (ipykernel)",
   "language": "python",
   "name": "python3"
  },
  "language_info": {
   "codemirror_mode": {
    "name": "ipython",
    "version": 3
   },
   "file_extension": ".py",
   "mimetype": "text/x-python",
   "name": "python",
   "nbconvert_exporter": "python",
   "pygments_lexer": "ipython3",
   "version": "3.8.9"
  }
 },
 "nbformat": 4,
 "nbformat_minor": 5
}
