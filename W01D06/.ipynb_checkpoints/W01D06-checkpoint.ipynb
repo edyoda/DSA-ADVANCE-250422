{
 "cells": [
  {
   "cell_type": "code",
   "execution_count": 2,
   "id": "b7e23d4f",
   "metadata": {},
   "outputs": [],
   "source": [
    "class Node:\n",
    "    def __init__(self, data):\n",
    "        self.data = data\n",
    "        self.left = None\n",
    "        self.right = None"
   ]
  },
  {
   "cell_type": "code",
   "execution_count": 3,
   "id": "7859b5ba",
   "metadata": {},
   "outputs": [],
   "source": [
    "def insert(node, data):\n",
    "    # empty tree\n",
    "    if node is None:\n",
    "        return Node(data)\n",
    "    # if tree is not empty\n",
    "    if data <= node.data:\n",
    "        node.left = insert(node.left, data)\n",
    "    else:\n",
    "        node.right = insert(node.right, data)\n",
    "    return node"
   ]
  },
  {
   "cell_type": "code",
   "execution_count": 4,
   "id": "c67fb1d4",
   "metadata": {},
   "outputs": [
    {
     "data": {
      "text/plain": [
       "<__main__.Node at 0x1030e6c40>"
      ]
     },
     "execution_count": 4,
     "metadata": {},
     "output_type": "execute_result"
    }
   ],
   "source": [
    "root = insert(None, 50)\n",
    "insert(root,45)\n",
    "insert(root,30)\n",
    "insert(root,80)\n",
    "insert(root,70)\n",
    "insert(root,90)\n",
    "insert(root,46)\n",
    "insert(root,85)"
   ]
  },
  {
   "cell_type": "code",
   "execution_count": 6,
   "id": "9180aa8d",
   "metadata": {},
   "outputs": [],
   "source": [
    "def inorder(root):\n",
    "    if root is not None:\n",
    "        inorder(root.left)\n",
    "        print(root.data)\n",
    "        inorder(root.right)"
   ]
  },
  {
   "cell_type": "code",
   "execution_count": 7,
   "id": "62190eb1",
   "metadata": {},
   "outputs": [
    {
     "name": "stdout",
     "output_type": "stream",
     "text": [
      "30\n",
      "45\n",
      "46\n",
      "50\n",
      "70\n",
      "80\n",
      "85\n",
      "90\n"
     ]
    }
   ],
   "source": [
    "inorder(root)"
   ]
  },
  {
   "cell_type": "code",
   "execution_count": 8,
   "id": "40fac7b8",
   "metadata": {},
   "outputs": [],
   "source": [
    "def findmin(node):\n",
    "    while(node.left is not None):\n",
    "        node = node.left\n",
    "    return node"
   ]
  },
  {
   "cell_type": "code",
   "execution_count": 10,
   "id": "2767b0e7",
   "metadata": {},
   "outputs": [
    {
     "data": {
      "text/plain": [
       "30"
      ]
     },
     "execution_count": 10,
     "metadata": {},
     "output_type": "execute_result"
    }
   ],
   "source": [
    "findmin(root).data"
   ]
  },
  {
   "cell_type": "code",
   "execution_count": 11,
   "id": "166d7cd7",
   "metadata": {},
   "outputs": [],
   "source": [
    "def preorder(root):\n",
    "    if root is not None:\n",
    "        print(root.data)\n",
    "        preorder(root.left)\n",
    "        preorder(root.right)"
   ]
  },
  {
   "cell_type": "code",
   "execution_count": 12,
   "id": "80fbbb30",
   "metadata": {},
   "outputs": [
    {
     "name": "stdout",
     "output_type": "stream",
     "text": [
      "50\n",
      "45\n",
      "30\n",
      "46\n",
      "80\n",
      "70\n",
      "90\n",
      "85\n"
     ]
    }
   ],
   "source": [
    "preorder(root)"
   ]
  },
  {
   "cell_type": "code",
   "execution_count": 15,
   "id": "05b53bb0",
   "metadata": {},
   "outputs": [],
   "source": [
    "def postorder(root):\n",
    "    if root is not None:\n",
    "        postorder(root.left)\n",
    "        postorder(root.right)\n",
    "        print(root.data)"
   ]
  },
  {
   "cell_type": "code",
   "execution_count": 16,
   "id": "908d3a37",
   "metadata": {},
   "outputs": [
    {
     "name": "stdout",
     "output_type": "stream",
     "text": [
      "30\n",
      "46\n",
      "45\n",
      "70\n",
      "85\n",
      "90\n",
      "80\n",
      "50\n"
     ]
    }
   ],
   "source": [
    "postorder(root)"
   ]
  },
  {
   "cell_type": "code",
   "execution_count": 19,
   "id": "8aee711b",
   "metadata": {},
   "outputs": [],
   "source": [
    "def bfs(root):\n",
    "    queue = []\n",
    "    \n",
    "    # empty tree\n",
    "    if root is None:\n",
    "        return\n",
    "    \n",
    "    queue.append(root)\n",
    "    \n",
    "    while(len(queue)>0):\n",
    "        popped_node = queue.pop(0)\n",
    "        print(popped_node.data)\n",
    "        if popped_node.left is not None:\n",
    "            queue.append(popped_node.left)\n",
    "        if popped_node.right is not None:\n",
    "            queue.append(popped_node.right)"
   ]
  },
  {
   "cell_type": "code",
   "execution_count": 20,
   "id": "94ac0065",
   "metadata": {},
   "outputs": [
    {
     "name": "stdout",
     "output_type": "stream",
     "text": [
      "50\n",
      "45\n",
      "80\n",
      "30\n",
      "46\n",
      "70\n",
      "90\n",
      "85\n"
     ]
    }
   ],
   "source": [
    "bfs(root)"
   ]
  },
  {
   "cell_type": "code",
   "execution_count": 21,
   "id": "f57c23d2",
   "metadata": {},
   "outputs": [
    {
     "name": "stdout",
     "output_type": "stream",
     "text": [
      "dict_keys(['A', 'B', 'C', 'D'])\n"
     ]
    }
   ],
   "source": [
    "# Adjaceny list representation\n",
    "self_data = {\n",
    "              'A':['B','C','D'],\n",
    "              'B':['A'],\n",
    "              'C':['A','D'],\n",
    "              'D':['A','C']\n",
    "             }\n",
    "\n",
    "print(self_data.keys())"
   ]
  },
  {
   "cell_type": "code",
   "execution_count": 35,
   "id": "3c2505a8",
   "metadata": {},
   "outputs": [],
   "source": [
    "class graph:\n",
    "    def __init__(self):\n",
    "        self.data = {}\n",
    "        \n",
    "    def addEdge(self, u, v):\n",
    "        if u in self.data.keys():\n",
    "            self.data[u].append(v)\n",
    "        else:\n",
    "            self.data[u] = [v]\n",
    "        if v not in self.data.keys():\n",
    "            self.data[v] = []\n",
    "        \n",
    "    def bfs(self):\n",
    "        visited = {}\n",
    "        for vertex in self.data.keys():\n",
    "            visited[vertex] = False\n",
    "        queue = []\n",
    "        for v in self.data.keys():\n",
    "            if visited[v] == True:\n",
    "                continue\n",
    "            queue.append(v)\n",
    "            visited[v] = True\n",
    "            while len(queue) > 0:\n",
    "                popped_item = queue.pop(0)\n",
    "                print(popped_item,end=\"-->\")\n",
    "                for connected_vertex in self.data[popped_item]:\n",
    "                    if visited[connected_vertex] == False:\n",
    "                        queue.append(connected_vertex)\n",
    "                        visited[connected_vertex] = True"
   ]
  },
  {
   "cell_type": "code",
   "execution_count": 36,
   "id": "f143c50f",
   "metadata": {},
   "outputs": [],
   "source": [
    "sample_graph = graph()"
   ]
  },
  {
   "cell_type": "code",
   "execution_count": 37,
   "id": "e5b3eb2e",
   "metadata": {},
   "outputs": [],
   "source": [
    "sample_graph.addEdge('A','B')\n",
    "sample_graph.addEdge('B','A')\n",
    "sample_graph.addEdge('A','C')\n",
    "sample_graph.addEdge('C','A')\n",
    "sample_graph.addEdge('A','D')\n",
    "sample_graph.addEdge('D','A')\n",
    "sample_graph.addEdge('A','E')\n",
    "sample_graph.addEdge('C','D')\n",
    "sample_graph.addEdge('D','C')"
   ]
  },
  {
   "cell_type": "code",
   "execution_count": 38,
   "id": "95f7cd04",
   "metadata": {},
   "outputs": [
    {
     "data": {
      "text/plain": [
       "{'A': ['B', 'C', 'D', 'E'],\n",
       " 'B': ['A'],\n",
       " 'C': ['A', 'D'],\n",
       " 'D': ['A', 'C'],\n",
       " 'E': []}"
      ]
     },
     "execution_count": 38,
     "metadata": {},
     "output_type": "execute_result"
    }
   ],
   "source": [
    "sample_graph.data"
   ]
  },
  {
   "cell_type": "code",
   "execution_count": 39,
   "id": "b34599fa",
   "metadata": {},
   "outputs": [],
   "source": [
    "# {}\n",
    "# 'A' -> 'B'\n",
    "\n",
    "# {'A':['B'],\n",
    "#  'B':[]}\n",
    "\n",
    "# 'A' -> 'C'\n",
    "\n",
    "# {'A':['C'],\n",
    "#  'B':[]}"
   ]
  },
  {
   "cell_type": "code",
   "execution_count": 40,
   "id": "0ec1a4ef",
   "metadata": {},
   "outputs": [
    {
     "name": "stdout",
     "output_type": "stream",
     "text": [
      "A-->B-->C-->D-->E-->"
     ]
    }
   ],
   "source": [
    "sample_graph.bfs()"
   ]
  },
  {
   "cell_type": "code",
   "execution_count": 26,
   "id": "cb0855b1",
   "metadata": {},
   "outputs": [],
   "source": [
    "visited = [False]*5"
   ]
  },
  {
   "cell_type": "code",
   "execution_count": 27,
   "id": "151889fb",
   "metadata": {},
   "outputs": [
    {
     "data": {
      "text/plain": [
       "[False, False, False, False, False]"
      ]
     },
     "execution_count": 27,
     "metadata": {},
     "output_type": "execute_result"
    }
   ],
   "source": [
    "visited"
   ]
  },
  {
   "cell_type": "code",
   "execution_count": 41,
   "id": "fa684382",
   "metadata": {},
   "outputs": [],
   "source": [
    "# counting sort"
   ]
  },
  {
   "cell_type": "code",
   "execution_count": 42,
   "id": "552855a0",
   "metadata": {},
   "outputs": [
    {
     "name": "stdout",
     "output_type": "stream",
     "text": [
      "1,1,1,1,1,1,2,2,2,2,2,3,3,3,3,3,4,4,4,4,4,"
     ]
    }
   ],
   "source": [
    "given_list = [1,2,3,1,2,3,4,4,4,4,4,2,1,1,1,1,2,2,3,3,3]\n",
    "\n",
    "x1,x2,x3,x4 = 0,0,0,0\n",
    "\n",
    "for val in given_list:\n",
    "    if val == 1:\n",
    "        x1 += 1\n",
    "    elif val == 2:\n",
    "        x2 += 1\n",
    "    elif val == 3:\n",
    "        x3 += 1\n",
    "    else:\n",
    "        x4 += 1\n",
    "\n",
    "for ones in range(x1):\n",
    "    print(1,end=',')\n",
    "for twos in range(x2):\n",
    "    print(2,end=',')\n",
    "for threes in range(x3):\n",
    "    print(3,end=',')\n",
    "for fors in range(x4):\n",
    "    print(4,end=',')"
   ]
  },
  {
   "cell_type": "code",
   "execution_count": 49,
   "id": "07c23605",
   "metadata": {},
   "outputs": [],
   "source": [
    "given_list = [1,2,3,1,2,3,4,4,4,4,4,2,1,1,1,1,2,2,3,3,3]\n",
    "\n",
    "numbers_count = {}\n",
    "\n",
    "for val in sorted(set(given_list)):\n",
    "    numbers_count[val] = given_list.count(val)\n",
    "\n",
    "final_list = []\n",
    "for no,count in numbers_count.items():\n",
    "    final_list.extend([no]*count)"
   ]
  },
  {
   "cell_type": "code",
   "execution_count": 50,
   "id": "1a22aacb",
   "metadata": {},
   "outputs": [
    {
     "data": {
      "text/plain": [
       "{1, 2, 3, 4}"
      ]
     },
     "execution_count": 50,
     "metadata": {},
     "output_type": "execute_result"
    }
   ],
   "source": [
    "set(given_list)"
   ]
  },
  {
   "cell_type": "code",
   "execution_count": 51,
   "id": "3ac31b8a",
   "metadata": {},
   "outputs": [
    {
     "name": "stdout",
     "output_type": "stream",
     "text": [
      "[1, 1, 1, 1, 1, 1, 2, 2, 2, 2, 2, 3, 3, 3, 3, 3, 4, 4, 4, 4, 4]\n"
     ]
    }
   ],
   "source": [
    "print(final_list)"
   ]
  },
  {
   "cell_type": "code",
   "execution_count": 56,
   "id": "df120d4f",
   "metadata": {},
   "outputs": [
    {
     "name": "stdout",
     "output_type": "stream",
     "text": [
      "[-20, 23, 34, 456]\n"
     ]
    }
   ],
   "source": [
    "def insertion_sort(list_of_items):\n",
    "    for i in range(1, len(list_of_items)):\n",
    "        choosen = list_of_items[i]\n",
    "        j = i-1\n",
    "        while j >= 0 and choosen < list_of_items[j] :\n",
    "                list_of_items[j + 1] = list_of_items[j]\n",
    "                j -= 1\n",
    "        list_of_items[j + 1] = choosen\n",
    " \n",
    " \n",
    "given_list = [23,34,456,-20]\n",
    "insertion_sort(given_list)\n",
    "print(given_list)"
   ]
  },
  {
   "cell_type": "code",
   "execution_count": 57,
   "id": "d39b313e",
   "metadata": {},
   "outputs": [
    {
     "name": "stdout",
     "output_type": "stream",
     "text": [
      "[7, 2, 5, 3]  *  [7, 13, 1, 6]\n",
      "[7, 2]  *  [5, 3]\n",
      "[7]  *  [2]\n",
      "[5]  *  [3]\n",
      "[7, 13]  *  [1, 6]\n",
      "[7]  *  [13]\n",
      "[1]  *  [6]\n",
      "[1, 2, 3, 5, 6, 7, 7, 13]\n"
     ]
    }
   ],
   "source": [
    "def merge_sort(A):\n",
    "    n = len(A)\n",
    "    if n==1:\n",
    "        return A\n",
    "    m = n//2\n",
    "    print(A[:m],\" * \",A[m:])\n",
    "    B = merge_sort(A[:m])\n",
    "    C = merge_sort(A[m:])\n",
    "    A_dash = Merge(B,C)\n",
    "    return A_dash\n",
    "\n",
    "\n",
    "def Merge(B,C):\n",
    "    D = []\n",
    "    while len(B)!=0 and len(C)!=0:\n",
    "        b=B[0]\n",
    "        c=C[0]\n",
    "        if b<=c:\n",
    "            D.append(b)\n",
    "            B.pop(0)\n",
    "        else:\n",
    "            D.append(c)\n",
    "            C.pop(0)\n",
    "    if len(B)!=0:\n",
    "        D.extend(B)\n",
    "    if len(C)!=0:\n",
    "        D.extend(C)\n",
    "    return D\n",
    "\n",
    "print(merge_sort([7,2,5,3,7,13,1,6]))"
   ]
  },
  {
   "cell_type": "code",
   "execution_count": null,
   "id": "6638f613",
   "metadata": {},
   "outputs": [],
   "source": []
  }
 ],
 "metadata": {
  "kernelspec": {
   "display_name": "Python 3 (ipykernel)",
   "language": "python",
   "name": "python3"
  },
  "language_info": {
   "codemirror_mode": {
    "name": "ipython",
    "version": 3
   },
   "file_extension": ".py",
   "mimetype": "text/x-python",
   "name": "python",
   "nbconvert_exporter": "python",
   "pygments_lexer": "ipython3",
   "version": "3.8.9"
  }
 },
 "nbformat": 4,
 "nbformat_minor": 5
}
