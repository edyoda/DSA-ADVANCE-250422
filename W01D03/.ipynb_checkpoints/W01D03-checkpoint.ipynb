{
 "cells": [
  {
   "cell_type": "code",
   "execution_count": null,
   "id": "53984b74",
   "metadata": {},
   "outputs": [],
   "source": [
    "CODE FOR INSERTION SORT ALGORITHM?\n",
    "\n",
    "HOMEWORK CHANCE 2"
   ]
  },
  {
   "cell_type": "markdown",
   "id": "9ccd4af6",
   "metadata": {},
   "source": [
    "# quick sort"
   ]
  },
  {
   "cell_type": "code",
   "execution_count": 24,
   "id": "7def1f12",
   "metadata": {},
   "outputs": [],
   "source": [
    "def partition(A,l,r):\n",
    "    x = A[l]\n",
    "    j = l\n",
    "    for i in range(l+1,r+1):\n",
    "        if A[i] <= x:\n",
    "            j += 1\n",
    "            A[j],A[i] = A[i],A[j]\n",
    "    A[l],A[j] = A[j],A[l]\n",
    "    return j"
   ]
  },
  {
   "cell_type": "code",
   "execution_count": 25,
   "id": "15d14950",
   "metadata": {},
   "outputs": [
    {
     "data": {
      "text/plain": [
       "6"
      ]
     },
     "execution_count": 25,
     "metadata": {},
     "output_type": "execute_result"
    }
   ],
   "source": [
    "A = [6,4,2,3,4,8,9,9,7,6,1]\n",
    "partition(A,0,len(A)-1)"
   ]
  },
  {
   "cell_type": "code",
   "execution_count": 26,
   "id": "55422e15",
   "metadata": {},
   "outputs": [
    {
     "data": {
      "text/plain": [
       "[2, 3, 4, 4, 6, 7, 8, 9, 9, 10, 13]"
      ]
     },
     "execution_count": 26,
     "metadata": {},
     "output_type": "execute_result"
    }
   ],
   "source": [
    "A = [3,4,2,13,9,8,9,4,7,6,10]\n",
    "sorted(A)"
   ]
  },
  {
   "cell_type": "code",
   "execution_count": 29,
   "id": "e55878e3",
   "metadata": {},
   "outputs": [],
   "source": [
    "def quicksort(A,l,r):\n",
    "    if l>= r:\n",
    "        return\n",
    "    m = partition(A,l,r)\n",
    "    quicksort(A,l,m-1)\n",
    "    quicksort(A,m+1,r)\n",
    "    print(A)"
   ]
  },
  {
   "cell_type": "code",
   "execution_count": 30,
   "id": "6778ce60",
   "metadata": {},
   "outputs": [
    {
     "name": "stdout",
     "output_type": "stream",
     "text": [
      "[1, 2, 3, 4, 4, 6, 6, 9, 7, 8, 9]\n",
      "[1, 2, 3, 4, 4, 6, 6, 9, 7, 8, 9]\n",
      "[1, 2, 3, 4, 4, 6, 6, 9, 7, 8, 9]\n",
      "[1, 2, 3, 4, 4, 6, 6, 9, 7, 8, 9]\n",
      "[1, 2, 3, 4, 4, 6, 6, 7, 8, 9, 9]\n",
      "[1, 2, 3, 4, 4, 6, 6, 7, 8, 9, 9]\n",
      "[1, 2, 3, 4, 4, 6, 6, 7, 8, 9, 9]\n",
      "[1, 2, 3, 4, 4, 6, 6, 7, 8, 9, 9]\n"
     ]
    }
   ],
   "source": [
    "A = [6,4,2,3,4,8,9,9,7,6,1]\n",
    "quicksort(A,0,len(A)-1)"
   ]
  },
  {
   "cell_type": "code",
   "execution_count": null,
   "id": "d51921ce",
   "metadata": {},
   "outputs": [],
   "source": [
    "HOMEWORK: GO THROUGH BUCKET SORT, MERGE SORT ALGO."
   ]
  },
  {
   "cell_type": "markdown",
   "id": "0ba0166b",
   "metadata": {},
   "source": [
    "# trees"
   ]
  },
  {
   "cell_type": "code",
   "execution_count": 31,
   "id": "8ac9738c",
   "metadata": {},
   "outputs": [],
   "source": [
    "# node for binary tree\n",
    "\n",
    "# magic methods/dunder methods in python"
   ]
  },
  {
   "cell_type": "code",
   "execution_count": 63,
   "id": "9941c785",
   "metadata": {},
   "outputs": [],
   "source": [
    "class node:\n",
    "    def __init__(self, left, right, data):\n",
    "        self.left = left\n",
    "        self.right = right\n",
    "        self.data = data\n",
    "    \n",
    "    def __str__(self):\n",
    "        \n",
    "        return '{}---{}---{}'.format(self.left.data if self.left else '',self.data, self.right.data if self.right else '')"
   ]
  },
  {
   "cell_type": "code",
   "execution_count": 64,
   "id": "56e0d944",
   "metadata": {},
   "outputs": [],
   "source": [
    "root_node = node(None,None,'mohit')"
   ]
  },
  {
   "cell_type": "code",
   "execution_count": 65,
   "id": "da85756e",
   "metadata": {},
   "outputs": [
    {
     "name": "stdout",
     "output_type": "stream",
     "text": [
      "---mohit---\n"
     ]
    }
   ],
   "source": [
    "print(root_node)"
   ]
  },
  {
   "cell_type": "code",
   "execution_count": 66,
   "id": "ea808521",
   "metadata": {},
   "outputs": [
    {
     "data": {
      "text/plain": [
       "'mohit'"
      ]
     },
     "execution_count": 66,
     "metadata": {},
     "output_type": "execute_result"
    }
   ],
   "source": [
    "root_node.data"
   ]
  },
  {
   "cell_type": "code",
   "execution_count": 67,
   "id": "e077a45a",
   "metadata": {},
   "outputs": [],
   "source": [
    "alpha = node(None, None, 'alpha')"
   ]
  },
  {
   "cell_type": "code",
   "execution_count": 68,
   "id": "32e75aa5",
   "metadata": {},
   "outputs": [
    {
     "name": "stdout",
     "output_type": "stream",
     "text": [
      "---alpha---\n"
     ]
    }
   ],
   "source": [
    "print(alpha)"
   ]
  },
  {
   "cell_type": "code",
   "execution_count": 69,
   "id": "f525eacc",
   "metadata": {},
   "outputs": [],
   "source": [
    "beta = node(None, None, 'beta')"
   ]
  },
  {
   "cell_type": "code",
   "execution_count": 70,
   "id": "553f5bd5",
   "metadata": {},
   "outputs": [],
   "source": [
    "root_node.left = alpha"
   ]
  },
  {
   "cell_type": "code",
   "execution_count": 71,
   "id": "51b9a778",
   "metadata": {},
   "outputs": [],
   "source": [
    "root_node.right = beta"
   ]
  },
  {
   "cell_type": "code",
   "execution_count": 72,
   "id": "410a58eb",
   "metadata": {},
   "outputs": [
    {
     "name": "stdout",
     "output_type": "stream",
     "text": [
      "alpha---mohit---beta\n"
     ]
    }
   ],
   "source": [
    "print(root_node)"
   ]
  },
  {
   "cell_type": "code",
   "execution_count": null,
   "id": "a2d99533",
   "metadata": {},
   "outputs": [],
   "source": [
    "homework: create a bst with manual node linking. it should contain 8 nodes.\n",
    "try to implement bfs for traversal."
   ]
  }
 ],
 "metadata": {
  "kernelspec": {
   "display_name": "Python 3 (ipykernel)",
   "language": "python",
   "name": "python3"
  },
  "language_info": {
   "codemirror_mode": {
    "name": "ipython",
    "version": 3
   },
   "file_extension": ".py",
   "mimetype": "text/x-python",
   "name": "python",
   "nbconvert_exporter": "python",
   "pygments_lexer": "ipython3",
   "version": "3.8.9"
  }
 },
 "nbformat": 4,
 "nbformat_minor": 5
}
