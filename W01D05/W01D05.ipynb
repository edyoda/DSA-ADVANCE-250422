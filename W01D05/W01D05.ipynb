{
 "cells": [
  {
   "cell_type": "markdown",
   "id": "0c2054a4",
   "metadata": {},
   "source": [
    "## RECURSION"
   ]
  },
  {
   "cell_type": "code",
   "execution_count": 4,
   "id": "74b32f85",
   "metadata": {},
   "outputs": [
    {
     "name": "stdout",
     "output_type": "stream",
     "text": [
      "55\n"
     ]
    }
   ],
   "source": [
    "def happy(x):\n",
    "    if x == 55:\n",
    "        return x\n",
    "    return happy(x+1)\n",
    "    \n",
    "y = happy(53)\n",
    "print(y)"
   ]
  },
  {
   "cell_type": "markdown",
   "id": "d3f67312",
   "metadata": {},
   "source": [
    "# Binary Search Tree"
   ]
  },
  {
   "cell_type": "markdown",
   "id": "be4a703d",
   "metadata": {},
   "source": [
    "#Node"
   ]
  },
  {
   "cell_type": "code",
   "execution_count": 6,
   "id": "464d6ae1",
   "metadata": {},
   "outputs": [],
   "source": [
    "class Node:\n",
    "    def __init__(self, data):\n",
    "        self.data = data\n",
    "        self.left = None\n",
    "        self.right = None"
   ]
  },
  {
   "cell_type": "code",
   "execution_count": 7,
   "id": "b2e54e79",
   "metadata": {},
   "outputs": [],
   "source": [
    "def insert(node, data):\n",
    "    # empty tree\n",
    "    if node is None:\n",
    "        return Node(data)\n",
    "    # if tree is not empty\n",
    "    if data <= node.data:\n",
    "        node.left = insert(node.left, data)\n",
    "    else:\n",
    "        node.right = insert(node.right, data)\n",
    "    return node"
   ]
  },
  {
   "cell_type": "code",
   "execution_count": 9,
   "id": "59e3a895",
   "metadata": {},
   "outputs": [],
   "source": [
    "root = insert(None, 50)"
   ]
  },
  {
   "cell_type": "code",
   "execution_count": 11,
   "id": "eb0715b6",
   "metadata": {},
   "outputs": [
    {
     "name": "stdout",
     "output_type": "stream",
     "text": [
      "<__main__.Node object at 0x1035e6340>\n"
     ]
    }
   ],
   "source": [
    "print(root)"
   ]
  },
  {
   "cell_type": "code",
   "execution_count": 10,
   "id": "f1f233e3",
   "metadata": {},
   "outputs": [
    {
     "data": {
      "text/plain": [
       "<__main__.Node at 0x1035e6340>"
      ]
     },
     "execution_count": 10,
     "metadata": {},
     "output_type": "execute_result"
    }
   ],
   "source": [
    "insert(root,45)"
   ]
  },
  {
   "cell_type": "code",
   "execution_count": 12,
   "id": "e005758d",
   "metadata": {},
   "outputs": [
    {
     "data": {
      "text/plain": [
       "<__main__.Node at 0x1035e6340>"
      ]
     },
     "execution_count": 12,
     "metadata": {},
     "output_type": "execute_result"
    }
   ],
   "source": [
    "insert(root,30)"
   ]
  },
  {
   "cell_type": "code",
   "execution_count": 13,
   "id": "2a787078",
   "metadata": {},
   "outputs": [
    {
     "data": {
      "text/plain": [
       "<__main__.Node at 0x1035e6340>"
      ]
     },
     "execution_count": 13,
     "metadata": {},
     "output_type": "execute_result"
    }
   ],
   "source": [
    "insert(root,80)"
   ]
  },
  {
   "cell_type": "code",
   "execution_count": 14,
   "id": "b0ce622c",
   "metadata": {},
   "outputs": [
    {
     "data": {
      "text/plain": [
       "<__main__.Node at 0x1035e6340>"
      ]
     },
     "execution_count": 14,
     "metadata": {},
     "output_type": "execute_result"
    }
   ],
   "source": [
    "insert(root,70)"
   ]
  },
  {
   "cell_type": "code",
   "execution_count": 15,
   "id": "78d94ab9",
   "metadata": {},
   "outputs": [
    {
     "data": {
      "text/plain": [
       "<__main__.Node at 0x1035e6340>"
      ]
     },
     "execution_count": 15,
     "metadata": {},
     "output_type": "execute_result"
    }
   ],
   "source": [
    "insert(root,90)"
   ]
  },
  {
   "cell_type": "code",
   "execution_count": 16,
   "id": "a922aaf1",
   "metadata": {},
   "outputs": [
    {
     "data": {
      "text/plain": [
       "<__main__.Node at 0x1035e6340>"
      ]
     },
     "execution_count": 16,
     "metadata": {},
     "output_type": "execute_result"
    }
   ],
   "source": [
    "insert(root,46)"
   ]
  },
  {
   "cell_type": "code",
   "execution_count": 17,
   "id": "5b0666cb",
   "metadata": {},
   "outputs": [
    {
     "data": {
      "text/plain": [
       "<__main__.Node at 0x1035e6340>"
      ]
     },
     "execution_count": 17,
     "metadata": {},
     "output_type": "execute_result"
    }
   ],
   "source": [
    "insert(root,85)"
   ]
  },
  {
   "cell_type": "code",
   "execution_count": 18,
   "id": "adf878be",
   "metadata": {},
   "outputs": [
    {
     "data": {
      "text/plain": [
       "45"
      ]
     },
     "execution_count": 18,
     "metadata": {},
     "output_type": "execute_result"
    }
   ],
   "source": [
    "root.left.data"
   ]
  },
  {
   "cell_type": "code",
   "execution_count": 19,
   "id": "b549f264",
   "metadata": {},
   "outputs": [
    {
     "data": {
      "text/plain": [
       "80"
      ]
     },
     "execution_count": 19,
     "metadata": {},
     "output_type": "execute_result"
    }
   ],
   "source": [
    "root.right.data"
   ]
  },
  {
   "cell_type": "code",
   "execution_count": 20,
   "id": "ec05c29c",
   "metadata": {},
   "outputs": [],
   "source": [
    "node_80 = root.right"
   ]
  },
  {
   "cell_type": "code",
   "execution_count": 21,
   "id": "6edec7a8",
   "metadata": {},
   "outputs": [
    {
     "data": {
      "text/plain": [
       "70"
      ]
     },
     "execution_count": 21,
     "metadata": {},
     "output_type": "execute_result"
    }
   ],
   "source": [
    "node_80.left.data"
   ]
  },
  {
   "cell_type": "code",
   "execution_count": 22,
   "id": "d650824d",
   "metadata": {},
   "outputs": [
    {
     "data": {
      "text/plain": [
       "90"
      ]
     },
     "execution_count": 22,
     "metadata": {},
     "output_type": "execute_result"
    }
   ],
   "source": [
    "node_80.right.data"
   ]
  },
  {
   "cell_type": "code",
   "execution_count": null,
   "id": "c27f7a24",
   "metadata": {},
   "outputs": [],
   "source": [
    "## Traversal"
   ]
  }
 ],
 "metadata": {
  "kernelspec": {
   "display_name": "Python 3 (ipykernel)",
   "language": "python",
   "name": "python3"
  },
  "language_info": {
   "codemirror_mode": {
    "name": "ipython",
    "version": 3
   },
   "file_extension": ".py",
   "mimetype": "text/x-python",
   "name": "python",
   "nbconvert_exporter": "python",
   "pygments_lexer": "ipython3",
   "version": "3.8.9"
  }
 },
 "nbformat": 4,
 "nbformat_minor": 5
}
